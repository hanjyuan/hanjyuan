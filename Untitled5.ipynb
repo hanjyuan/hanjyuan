{
  "nbformat": 4,
  "nbformat_minor": 0,
  "metadata": {
    "colab": {
      "provenance": [],
      "authorship_tag": "ABX9TyMBxuGNP/wfPlPMjLVQgqoF",
      "include_colab_link": true
    },
    "kernelspec": {
      "name": "python3",
      "display_name": "Python 3"
    },
    "language_info": {
      "name": "python"
    }
  },
  "cells": [
    {
      "cell_type": "markdown",
      "metadata": {
        "id": "view-in-github",
        "colab_type": "text"
      },
      "source": [
        "<a href=\"https://colab.research.google.com/github/hanjyuan/hanjyuan/blob/main/Untitled5.ipynb\" target=\"_parent\"><img src=\"https://colab.research.google.com/assets/colab-badge.svg\" alt=\"Open In Colab\"/></a>"
      ]
    },
    {
      "cell_type": "code",
      "source": [
        "import math\n",
        "from itertools import permutations\n",
        "\n",
        "class City:\n",
        "    def __init__(self, x, y, price):\n",
        "        self.__x = x\n",
        "        self.__y = y\n",
        "        self.__price = price\n",
        "        self.__discount = []\n",
        "\n",
        "    def getX(self):\n",
        "        return self.__x\n",
        "\n",
        "    def getY(self):\n",
        "        return self.__y\n",
        "\n",
        "    def getPrice(self):\n",
        "        return self.__price\n",
        "\n",
        "    def getDiscount(self):\n",
        "        return self.__discount\n",
        "\n",
        "    def setX(self, x):\n",
        "        self.__x = x\n",
        "\n",
        "    def setY(self, y):\n",
        "        self.__y = y\n",
        "\n",
        "    def setPrice(self, price):\n",
        "        self.__price = price\n",
        "\n",
        "    def setDiscount(self, discount):\n",
        "        self.__discount = discount\n",
        "\n",
        "    def computePrice(self, aCity):\n",
        "        price = aCity.getPrice() / 100\n",
        "        distance = math.sqrt((self.__x - aCity.getX())**2 + (self.__y - aCity.getY())**2)\n",
        "        if self in aCity.getDiscount():\n",
        "            price *= 0.8\n",
        "        return distance + price\n",
        "\n",
        "def set_up():\n",
        "    city_a = City(0, 0, 2000)\n",
        "    city_b = City(0, 120, 2400)\n",
        "    city_c = City(30, 100, 2400)\n",
        "    city_d = City(80, 0, 1600)\n",
        "    city_e = City(45, 10, 1500)\n",
        "    city_f = City(90, 160, 2200)\n",
        "    city_g = City(120, 200, 1200)\n",
        "\n",
        "    city_a.setDiscount([city_c, city_g])\n",
        "    city_b.setDiscount([city_d, city_e])\n",
        "    city_c.setDiscount([city_a, city_g])\n",
        "    city_d.setDiscount([city_a, city_b])\n",
        "    city_e.setDiscount([city_b, city_f])\n",
        "    city_f.setDiscount([city_a, city_c])\n",
        "    city_g.setDiscount([city_e, city_f])\n",
        "\n",
        "    cities = [city_a, city_b, city_c, city_d, city_e, city_f, city_g]\n",
        "    return cities\n",
        "\n",
        "cities = set_up()\n",
        "min_cost = math.inf\n",
        "min_route = None\n",
        "\n",
        "for route in permutations(cities):\n",
        "    cost = 0\n",
        "    for i in range(len(route)-1):\n",
        "        cost += route[i].computePrice(route[i+1])\n",
        "    if cost < min_cost:\n",
        "        min_cost = cost\n",
        "        min_route = route\n",
        "\n",
        "rounded_cost = math.ceil(min_cost * 100)\n",
        "print(rounded_cost)\n"
      ],
      "metadata": {
        "colab": {
          "base_uri": "https://localhost:8080/"
        },
        "id": "9M0ZsnKUpUWU",
        "outputId": "9ee296ea-fde6-49b4-c741-90941214983f"
      },
      "execution_count": 5,
      "outputs": [
        {
          "output_type": "stream",
          "name": "stdout",
          "text": [
            "48125\n"
          ]
        }
      ]
    }
  ]
}